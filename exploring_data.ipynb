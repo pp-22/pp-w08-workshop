{
 "cells": [
  {
   "cell_type": "markdown",
   "id": "15608778",
   "metadata": {},
   "source": [
    "# Exploring the NYC taxi data\n",
    "\n",
    "In Project 2, you will work on the [NYC taxi trip data](https://www.nyc.gov/site/tlc/about/tlc-trip-record-data.page). Every month, the city of New York publishes open data which contains a record of every taxi ride taken that month in the city.\n",
    "\n",
    "The function `get_taxi_data()` is provided for you in `utils.py` to easily download and read data for a particular month and type of taxi. You should use it in your project.\n",
    "\n",
    "Open `utils.py` in VSCode, study it carefully, and try the example below. If you are not sure how it works, ask a tutor!"
   ]
  },
  {
   "cell_type": "code",
   "execution_count": null,
   "id": "3c8e08d5",
   "metadata": {},
   "outputs": [],
   "source": [
    "import pandas as pd\n",
    "\n",
    "# Import the function get_taxi_data() from utils.py\n",
    "from utils import get_taxi_data"
   ]
  },
  {
   "cell_type": "code",
   "execution_count": null,
   "id": "b93c1dd5",
   "metadata": {},
   "outputs": [],
   "source": [
    "# Example: get yellow taxi data for January 2022\n",
    "cols_to_read = ['tpep_pickup_datetime',\n",
    "                'tpep_dropoff_datetime',\n",
    "                'passenger_count',\n",
    "                'trip_distance',\n",
    "                'fare_amount']\n",
    "\n",
    "# Download the data and get the specified columns, save the file locally\n",
    "df = get_taxi_data('2022', '01', 'yellow', columns=cols_to_read, save=True)\n",
    "df.info()"
   ]
  },
  {
   "cell_type": "code",
   "execution_count": null,
   "id": "e2fe8a61",
   "metadata": {},
   "outputs": [],
   "source": [
    "# Now, get the data only for those 3 columns.\n",
    "# We have the file already saved from the previous command, so this should be faster!\n",
    "cols_to_read = ['tpep_pickup_datetime',\n",
    "                'tpep_dropoff_datetime',\n",
    "                'trip_distance']\n",
    "\n",
    "# We also don't need to save this as it's a subset of the file we already have.\n",
    "df = get_taxi_data('2022', '01', 'yellow', columns=cols_to_read)\n",
    "df.info()"
   ]
  },
  {
   "cell_type": "code",
   "execution_count": null,
   "id": "82000ddb",
   "metadata": {},
   "outputs": [],
   "source": [
    "# Now, I want the same data, but I need a new column 'total_amount' which is not in my current file.\n",
    "cols_to_read = ['fare_amount',\n",
    "                'total_amount']\n",
    "\n",
    "# The function tries to get the columns from the existing data file,\n",
    "# but can't find them, so it automatically re-downloads the data.\n",
    "df = get_taxi_data('2022', '01', 'yellow', columns=cols_to_read)\n",
    "df.info()"
   ]
  },
  {
   "cell_type": "markdown",
   "id": "bb7ceec1",
   "metadata": {},
   "source": [
    "Now, choose another month, a type of vehicle, use `get_taxi_data()` to obtain the data, and start exploring the dataset!\n",
    "\n",
    "---\n",
    "\n",
    "## Important tips about memory usage\n",
    "\n",
    "Some of the data files are very heavy (several gigabytes!). Depending on your computer's RAM (memory), you may not be able to read entire data files at once, in a single data frame.\n",
    "\n",
    "### Specify `columns`\n",
    "\n",
    "The `columns` input argument is provided for you to select which columns you want to include in your dataframe. You should always specify which columns you need when you read data, to avoid loading unnecessary data into memory.\n",
    "\n",
    "### Save your processed data into CSV files\n",
    "\n",
    "To create your report, you will be selecting specific parts of the data, and likely performing some cleaning and/or aggregation on this data. You may wish to save your data at intermediate steps of your processing into CSV files, so that you can load these directly the next time you start your notebook (instead of having to re-do all the processing every time you restart Jupyter).\n",
    "\n",
    "---"
   ]
  },
  {
   "cell_type": "code",
   "execution_count": null,
   "id": "81ecab2c",
   "metadata": {},
   "outputs": [],
   "source": []
  },
  {
   "cell_type": "code",
   "execution_count": null,
   "id": "8bc7a8f6",
   "metadata": {},
   "outputs": [],
   "source": []
  },
  {
   "cell_type": "code",
   "execution_count": null,
   "id": "aa6e6fba",
   "metadata": {},
   "outputs": [],
   "source": []
  }
 ],
 "metadata": {
  "kernelspec": {
   "display_name": "Python 3 (ipykernel)",
   "language": "python",
   "name": "python3"
  },
  "language_info": {
   "codemirror_mode": {
    "name": "ipython",
    "version": 3
   },
   "file_extension": ".py",
   "mimetype": "text/x-python",
   "name": "python",
   "nbconvert_exporter": "python",
   "pygments_lexer": "ipython3",
   "version": "3.10.4"
  }
 },
 "nbformat": 4,
 "nbformat_minor": 5
}
